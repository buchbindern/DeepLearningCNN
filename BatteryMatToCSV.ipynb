{
 "cells": [
  {
   "cell_type": "code",
   "execution_count": 1,
   "id": "1f985d60",
   "metadata": {},
   "outputs": [],
   "source": [
    "from scipy.io import loadmat\n",
    "import pandas as pd"
   ]
  },
  {
   "cell_type": "code",
   "execution_count": 2,
   "id": "cfdd04bc",
   "metadata": {},
   "outputs": [],
   "source": [
    "mat_data = loadmat('/Users/nechamab/Downloads/batteryDischargeDataV2/batteryDischargeData.mat')"
   ]
  },
  {
   "cell_type": "code",
   "execution_count": 3,
   "id": "ac36b0d1",
   "metadata": {},
   "outputs": [
    {
     "name": "stdout",
     "output_type": "stream",
     "text": [
      "dict_keys(['__header__', '__version__', '__globals__', 'batteryDischargeData'])\n"
     ]
    }
   ],
   "source": [
    "print(mat_data.keys())"
   ]
  },
  {
   "cell_type": "code",
   "execution_count": 4,
   "id": "39234b6a",
   "metadata": {},
   "outputs": [],
   "source": [
    "battery_data = mat_data['batteryDischargeData']"
   ]
  },
  {
   "cell_type": "code",
   "execution_count": 5,
   "id": "15ae5da6",
   "metadata": {},
   "outputs": [
    {
     "name": "stdout",
     "output_type": "stream",
     "text": [
      "<class 'numpy.ndarray'>\n",
      "(1, 40)\n",
      "[('cycle_life', 'O'), ('cycles', 'O')]\n"
     ]
    }
   ],
   "source": [
    "print(type(battery_data))\n",
    "print(battery_data.shape)\n",
    "print(battery_data.dtype)"
   ]
  },
  {
   "cell_type": "code",
   "execution_count": 6,
   "id": "5f4a056a",
   "metadata": {},
   "outputs": [
    {
     "name": "stdout",
     "output_type": "stream",
     "text": [
      "('discharge_dQdV', 'I', 'V', 'T', 'Qd')\n"
     ]
    }
   ],
   "source": [
    "battery = battery_data[0, 0]\n",
    "cycles = battery['cycles']\n",
    "print(cycles[0, 0].dtype.names)\n"
   ]
  },
  {
   "cell_type": "code",
   "execution_count": 7,
   "id": "5e2d0fe8",
   "metadata": {},
   "outputs": [],
   "source": [
    "all_cycles = []\n",
    "\n",
    "# Loop through each battery (40 total)\n",
    "for i in range(battery_data.shape[1]):\n",
    "    battery = battery_data[0, i]\n",
    "    cycles = battery['cycles']\n",
    "    \n",
    "    for j in range(cycles.shape[1]):\n",
    "        cycle = cycles[0, j]\n",
    "        \n",
    "        # Extract arrays\n",
    "        try:\n",
    "            I = cycle['I'].squeeze()\n",
    "            V = cycle['V'].squeeze()\n",
    "            T = cycle['T'].squeeze()\n",
    "            Qd = cycle['Qd'].squeeze()\n",
    "            \n",
    "            n_points = len(I)  # Assume all arrays are same length\n",
    "            \n",
    "            df = pd.DataFrame({\n",
    "                'BatteryIndex': i,\n",
    "                'CycleIndex': j,\n",
    "                'I': I,\n",
    "                'V': V,\n",
    "                'T': T,\n",
    "                'Qd': Qd\n",
    "            })\n",
    "\n",
    "            all_cycles.append(df)\n",
    "        except Exception as e:\n",
    "            print(f\"Error in battery {i} cycle {j}: {e}\")"
   ]
  },
  {
   "cell_type": "code",
   "execution_count": 8,
   "id": "498a3fd2",
   "metadata": {},
   "outputs": [],
   "source": [
    "final_df = pd.concat(all_cycles, ignore_index=True)\n",
    "final_df.to_csv('battery_cycle_data.csv', index=False)"
   ]
  },
  {
   "cell_type": "code",
   "execution_count": 9,
   "id": "c28f81ab",
   "metadata": {},
   "outputs": [
    {
     "name": "stdout",
     "output_type": "stream",
     "text": [
      "   BatteryIndex  CycleIndex         I         V          T            Qd\n",
      "0             0           0  0.542759  2.123264  32.083302  6.003815e-07\n",
      "1             0           0  0.848635  2.151546  32.082854  6.003815e-07\n",
      "2             0           0  1.200086  2.192398  32.082429  6.003815e-07\n",
      "3             0           0  1.550636  2.239513  32.081930  6.003815e-07\n",
      "4             0           0  1.850152  2.283407  32.081520  6.003815e-07\n",
      "Index(['BatteryIndex', 'CycleIndex', 'I', 'V', 'T', 'Qd'], dtype='object')\n",
      "(30725782, 6)\n"
     ]
    }
   ],
   "source": [
    "import pandas as pd\n",
    "df = pd.read_csv('battery_cycle_data.csv')\n",
    "print(df.head())\n",
    "print(df.columns)\n",
    "print(df.shape) "
   ]
  }
 ],
 "metadata": {
  "kernelspec": {
   "display_name": "venv",
   "language": "python",
   "name": "python3"
  },
  "language_info": {
   "codemirror_mode": {
    "name": "ipython",
    "version": 3
   },
   "file_extension": ".py",
   "mimetype": "text/x-python",
   "name": "python",
   "nbconvert_exporter": "python",
   "pygments_lexer": "ipython3",
   "version": "3.13.5"
  }
 },
 "nbformat": 4,
 "nbformat_minor": 5
}
