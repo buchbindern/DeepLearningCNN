{
 "cells": [
  {
   "cell_type": "markdown",
   "id": "37b384ed",
   "metadata": {},
   "source": [
    "Covariate survival model examines how different variables affect the time until failure."
   ]
  },
  {
   "cell_type": "code",
   "execution_count": 5,
   "id": "ae74a1ce",
   "metadata": {},
   "outputs": [
    {
     "name": "stdout",
     "output_type": "stream",
     "text": [
      "  DischargeTime  Temperature       Load Manufacturer\n",
      "0     70.152 hr           69  19.768852            A\n",
      "1     77.499 hr          111  30.462743            B\n",
      "2     67.385 hr           11  32.053327            C\n",
      "3     73.793 hr           53  29.684595            A\n",
      "4     65.574 hr           31  23.999763            C\n",
      "Index(['DischargeTime', 'Temperature', 'Load', 'Manufacturer'], dtype='object')\n",
      "(1000, 4)\n"
     ]
    }
   ],
   "source": [
    "import pandas as pd\n",
    "df = pd.read_csv('/Users/nechamab/Downloads/covariate_data.csv')\n",
    "print(df.head())\n",
    "print(df.columns)\n",
    "print(df.shape) "
   ]
  }
 ],
 "metadata": {
  "kernelspec": {
   "display_name": "venv (3.13.5)",
   "language": "python",
   "name": "python3"
  },
  "language_info": {
   "codemirror_mode": {
    "name": "ipython",
    "version": 3
   },
   "file_extension": ".py",
   "mimetype": "text/x-python",
   "name": "python",
   "nbconvert_exporter": "python",
   "pygments_lexer": "ipython3",
   "version": "3.13.5"
  }
 },
 "nbformat": 4,
 "nbformat_minor": 5
}
