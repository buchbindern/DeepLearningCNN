{
 "cells": [
  {
   "cell_type": "markdown",
   "id": "8f1c7102",
   "metadata": {},
   "source": [
    "### Get data"
   ]
  },
  {
   "cell_type": "markdown",
   "id": "17b35403",
   "metadata": {},
   "source": [
    "Using .pkl files because it hold the data the same way .mat does (the tactometer and vibration columns have very different amounts of data, and each file is its own day so I cant add it all to one big CSV)"
   ]
  },
  {
   "cell_type": "code",
   "execution_count": null,
   "id": "f849401e",
   "metadata": {},
   "outputs": [],
   "source": [
    "import os\n",
    "import scipy.io\n",
    "import pickle\n",
    "\n",
    "input_folder = \"WindTurbineData\"\n",
    "output_folder = \"wind_turbine_pkl\"\n",
    "os.makedirs(output_folder, exist_ok=True)\n",
    "\n",
    "for file in os.listdir(input_folder):\n",
    "    if file.endswith(\".mat\"):\n",
    "        path = os.path.join(input_folder, file)\n",
    "        data = scipy.io.loadmat(path)\n",
    "\n",
    "        vibration = data.get(\"vibration\")\n",
    "        tach = data.get(\"tach\")\n",
    "\n",
    "        # convert to flat list\n",
    "        record = {\n",
    "            \"vibration\": vibration.squeeze().tolist(),\n",
    "            \"tach\": tach.squeeze().tolist()\n",
    "        }\n",
    "\n",
    "        # save\n",
    "        base = os.path.splitext(file)[0]\n",
    "        outpath = os.path.join(output_folder, base + \".pkl\")\n",
    "        with open(outpath, \"wb\") as f:\n",
    "            pickle.dump(record, f)\n"
   ]
  },
  {
   "cell_type": "markdown",
   "id": "a5d3732e",
   "metadata": {},
   "source": [
    "the name of the mat files are the dates, I am renaming the files so its easier to use and adding the date as its own object like tact or vibration"
   ]
  },
  {
   "cell_type": "code",
   "execution_count": null,
   "id": "850aeac2",
   "metadata": {},
   "outputs": [],
   "source": [
    "import os\n",
    "import pandas as pd\n",
    "from datetime import datetime\n",
    "\n",
    "folder = \"wind_turbine_pkl\"  \n",
    "\n",
    "# sort the files (will be sorted by date)\n",
    "files = sorted([f for f in os.listdir(folder) if f.endswith(\".pkl\")])\n",
    "\n",
    "# \n",
    "for i, filename in enumerate(files, start=1):\n",
    "    old_path = os.path.join(folder, filename)\n",
    "\n",
    "    # get timestamp from file name before its changed, and save as datetime \n",
    "    timestamp = filename.replace(\"data-\", \"\").replace(\".pkl\", \"\")\n",
    "    date_obj = datetime.strptime(timestamp, \"%Y%m%dT%H%M%SZ\")\n",
    "\n",
    "    # load data and add the date\n",
    "    with open(old_path, \"rb\") as f:\n",
    "        data = pickle.load(f)\n",
    "    data[\"date\"] = date_obj\n",
    "\n",
    "    new_name = f\"wt_bearing{i}.pkl\"\n",
    "    new_path = os.path.join(folder, new_name)\n",
    "    \n",
    "    # save to new file\n",
    "    with open(new_path, \"wb\") as f:\n",
    "        pickle.dump(data, f)\n",
    "\n",
    "    # remove original file\n",
    "    os.remove(old_path)"
   ]
  },
  {
   "cell_type": "code",
   "execution_count": null,
   "id": "f1b5e8b1",
   "metadata": {},
   "outputs": [],
   "source": [
    "import pickle\n",
    "\n",
    "with open(\"wind_turbine_pkl/wt_bearing1.pkl\", \"rb\") as f:\n",
    "    data = pickle.load(f)\n",
    "\n",
    "for key, value in data.items():\n",
    "    print(f\"\\nKey: {key}\")\n",
    "    \n",
    "    if hasattr(value, \"head\"):\n",
    "        print(value.head())  \n",
    "    elif isinstance(value, (list, tuple)):\n",
    "        print(value[:5])\n",
    "    elif hasattr(value, \"shape\"):\n",
    "        print(f\"Shape: {value.shape}\")\n",
    "        print(value[:5])\n",
    "    else:\n",
    "        print(value)"
   ]
  }
 ],
 "metadata": {
  "language_info": {
   "name": "python"
  }
 },
 "nbformat": 4,
 "nbformat_minor": 5
}
